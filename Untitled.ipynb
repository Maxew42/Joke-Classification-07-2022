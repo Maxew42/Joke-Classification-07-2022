{
 "cells": [
  {
   "cell_type": "code",
   "execution_count": 1,
   "id": "6f420942-15ad-4e53-970b-4cee6fb59969",
   "metadata": {},
   "outputs": [],
   "source": [
    "import pandas as pd\n"
   ]
  },
  {
   "cell_type": "markdown",
   "id": "4c0ecaa1-1b20-4166-bce3-82e6af5d56ee",
   "metadata": {},
   "source": [
    "## Importing the data\n",
    "\n",
    "We import as usual the data with pandas."
   ]
  },
  {
   "cell_type": "code",
   "execution_count": 2,
   "id": "a499d187-954b-4717-9d2c-132ea8774d5c",
   "metadata": {},
   "outputs": [],
   "source": [
    "df = pd.read_json(\"data/jokes-dataset.json\")"
   ]
  },
  {
   "cell_type": "code",
   "execution_count": 14,
   "id": "b66530ac-1aed-4485-ae94-f9e538f0dd81",
   "metadata": {},
   "outputs": [
    {
     "data": {
      "text/html": [
       "<div>\n",
       "<style scoped>\n",
       "    .dataframe tbody tr th:only-of-type {\n",
       "        vertical-align: middle;\n",
       "    }\n",
       "\n",
       "    .dataframe tbody tr th {\n",
       "        vertical-align: top;\n",
       "    }\n",
       "\n",
       "    .dataframe thead th {\n",
       "        text-align: right;\n",
       "    }\n",
       "</style>\n",
       "<table border=\"1\" class=\"dataframe\">\n",
       "  <thead>\n",
       "    <tr style=\"text-align: right;\">\n",
       "      <th></th>\n",
       "      <th>body</th>\n",
       "      <th>id</th>\n",
       "      <th>score</th>\n",
       "      <th>title</th>\n",
       "    </tr>\n",
       "  </thead>\n",
       "  <tbody>\n",
       "    <tr>\n",
       "      <th>0</th>\n",
       "      <td>Now I have to say \"Leroy can you please paint ...</td>\n",
       "      <td>5tz52q</td>\n",
       "      <td>1</td>\n",
       "      <td>I hate how you cant even say black paint anymore</td>\n",
       "    </tr>\n",
       "    <tr>\n",
       "      <th>1</th>\n",
       "      <td>Pizza doesn't scream when you put it in the ov...</td>\n",
       "      <td>5tz4dd</td>\n",
       "      <td>0</td>\n",
       "      <td>What's the difference between a Jew in Nazi Ge...</td>\n",
       "    </tr>\n",
       "    <tr>\n",
       "      <th>2</th>\n",
       "      <td>...and being there really helped me learn abou...</td>\n",
       "      <td>5tz319</td>\n",
       "      <td>0</td>\n",
       "      <td>I recently went to America....</td>\n",
       "    </tr>\n",
       "    <tr>\n",
       "      <th>3</th>\n",
       "      <td>A Sunday school teacher is concerned that his ...</td>\n",
       "      <td>5tz2wj</td>\n",
       "      <td>1</td>\n",
       "      <td>Brian raises his hand and says, “He’s in Heaven.”</td>\n",
       "    </tr>\n",
       "    <tr>\n",
       "      <th>4</th>\n",
       "      <td>He got caught trying to sell the two books to ...</td>\n",
       "      <td>5tz1pc</td>\n",
       "      <td>0</td>\n",
       "      <td>You hear about the University book store worke...</td>\n",
       "    </tr>\n",
       "  </tbody>\n",
       "</table>\n",
       "</div>"
      ],
      "text/plain": [
       "                                                body      id  score  \\\n",
       "0  Now I have to say \"Leroy can you please paint ...  5tz52q      1   \n",
       "1  Pizza doesn't scream when you put it in the ov...  5tz4dd      0   \n",
       "2  ...and being there really helped me learn abou...  5tz319      0   \n",
       "3  A Sunday school teacher is concerned that his ...  5tz2wj      1   \n",
       "4  He got caught trying to sell the two books to ...  5tz1pc      0   \n",
       "\n",
       "                                               title  \n",
       "0   I hate how you cant even say black paint anymore  \n",
       "1  What's the difference between a Jew in Nazi Ge...  \n",
       "2                     I recently went to America....  \n",
       "3  Brian raises his hand and says, “He’s in Heaven.”  \n",
       "4  You hear about the University book store worke...  "
      ]
     },
     "execution_count": 14,
     "metadata": {},
     "output_type": "execute_result"
    }
   ],
   "source": [
    "df.head()"
   ]
  },
  {
   "cell_type": "code",
   "execution_count": 13,
   "id": "61c27370-9481-41d6-9624-1b47957a99e2",
   "metadata": {},
   "outputs": [
    {
     "data": {
      "text/plain": [
       "count    194553.000000\n",
       "mean        118.223255\n",
       "std         936.231277\n",
       "min           0.000000\n",
       "25%           0.000000\n",
       "50%           3.000000\n",
       "75%          16.000000\n",
       "max       48526.000000\n",
       "Name: score, dtype: float64"
      ]
     },
     "execution_count": 13,
     "metadata": {},
     "output_type": "execute_result"
    }
   ],
   "source": [
    "df['score'].describe()"
   ]
  },
  {
   "cell_type": "markdown",
   "id": "48b6fb61-13cf-46d4-aa50-60789b26f789",
   "metadata": {},
   "source": [
    "We see that the scale of score is huge but with a majority of low scores.\n",
    "\n",
    "We want to put back these score between 0 and 1, with 0 for the not funny jokes and 1 for the funniest ones. We can either treat this as a regression task, but with the classic problem that the value from regression are not bounded. Or we can treat this as a classification task and ouput the probability given to the class `funny` as our score. \n",
    "\n",
    "In this work we will take the second option. This has the consequences that we need to map jokes to `funny` and `not_funny` classes with the reddit score provided in the dataset. Here again we need to make a decision, we are going to explore possibilities.\n"
   ]
  },
  {
   "cell_type": "code",
   "execution_count": 20,
   "id": "da6a1f64-9182-43e5-917d-5e7f99f70d72",
   "metadata": {},
   "outputs": [],
   "source": [
    "def score2classes(score):\n",
    "    if score < 10:\n",
    "        return 0\n",
    "    else:\n",
    "        return 1"
   ]
  },
  {
   "cell_type": "code",
   "execution_count": null,
   "id": "f98fbb83-0e3c-4dbe-9285-b7b8feaeabc3",
   "metadata": {},
   "outputs": [],
   "source": [
    "To use classification models we need to have a vector representation of the joke (we can also use deep learning to get rid of this part but we won't)"
   ]
  },
  {
   "cell_type": "code",
   "execution_count": 16,
   "id": "781ba759-a8e0-483b-881b-2308f3c46433",
   "metadata": {},
   "outputs": [
    {
     "data": {
      "text/plain": [
       "0         0.001068\n",
       "1         0.000000\n",
       "2         0.000000\n",
       "3         0.001068\n",
       "4         0.000000\n",
       "            ...   \n",
       "194548    0.005341\n",
       "194549    0.012817\n",
       "194550    0.046997\n",
       "194551    0.067291\n",
       "194552    0.000000\n",
       "Name: score, Length: 194553, dtype: float64"
      ]
     },
     "execution_count": 16,
     "metadata": {},
     "output_type": "execute_result"
    }
   ],
   "source": [
    "(df['score'])/df['score'].std()"
   ]
  },
  {
   "cell_type": "code",
   "execution_count": 18,
   "id": "efd23db3-e6ee-4465-9cb7-1da22a0bbe4d",
   "metadata": {},
   "outputs": [
    {
     "data": {
      "text/plain": [
       "51.83121008077686"
      ]
     },
     "execution_count": 18,
     "metadata": {},
     "output_type": "execute_result"
    }
   ],
   "source": [
    "(df['score'])/df['score'].std()"
   ]
  },
  {
   "cell_type": "code",
   "execution_count": 4,
   "id": "390ccf00-9a95-49e4-9033-8ea4b6285c62",
   "metadata": {},
   "outputs": [
    {
     "data": {
      "text/plain": [
       "48526"
      ]
     },
     "execution_count": 4,
     "metadata": {},
     "output_type": "execute_result"
    }
   ],
   "source": [
    "df['score'].max()"
   ]
  },
  {
   "cell_type": "code",
   "execution_count": 12,
   "id": "7ebf6239-b4e3-4bdf-9b47-09a31ce77838",
   "metadata": {},
   "outputs": [
    {
     "data": {
      "text/plain": [
       "<matplotlib.axes._subplots.AxesSubplot at 0x2a591ae10f0>"
      ]
     },
     "execution_count": 12,
     "metadata": {},
     "output_type": "execute_result"
    },
    {
     "data": {
      "image/png": "[encoded data removed]",
      "text/plain": [
       "<Figure size 432x288 with 1 Axes>"
      ]
     },
     "metadata": {
      "needs_background": "light"
     },
     "output_type": "display_data"
    }
   ],
   "source": [
    "df['score'][df['score'] <200].hist(bins=70)"
   ]
  },
  {
   "cell_type": "code",
   "execution_count": 21,
   "id": "a3742669-450a-4cd1-a711-34f232a7780e",
   "metadata": {},
   "outputs": [],
   "source": [
    "## Preprocessing"
   ]
  },
  {
   "cell_type": "code",
   "execution_count": null,
   "id": "13ae2516-3bc9-48a2-a77c-547545476292",
   "metadata": {},
   "outputs": [],
   "source": []
  }
 ],
 "metadata": {
  "kernelspec": {
   "display_name": "Python 3",
   "language": "python",
   "name": "python3"
  },
  "language_info": {
   "codemirror_mode": {
    "name": "ipython",
    "version": 3
   },
   "file_extension": ".py",
   "mimetype": "text/x-python",
   "name": "python",
   "nbconvert_exporter": "python",
   "pygments_lexer": "ipython3",
   "version": "3.6.5"
  }
 },
 "nbformat": 4,
 "nbformat_minor": 5
}
